{
 "cells": [
  {
   "cell_type": "code",
   "execution_count": 3,
   "metadata": {},
   "outputs": [],
   "source": [
    "import numpy as np"
   ]
  },
  {
   "cell_type": "code",
   "execution_count": 4,
   "metadata": {},
   "outputs": [
    {
     "name": "stdout",
     "output_type": "stream",
     "text": [
      "[2 3 4 3 4 3 5]\n",
      "[1 2]\n",
      "[6.95278925e-310 1.06523319e-311 1.06520339e-311 1.06520339e-311]\n",
      "[ 1  6 11 16 21 26 31 36 41 46 51 56 61 66 71 76 81 86 91 96]\n",
      "[ 0.   2.5  5.   7.5 10. ]\n",
      "[ 0  1  2  3 12 43]\n",
      "[ 12   2   2   2   2 456  78   5  56 788  12   3  43   2   1   0]\n"
     ]
    }
   ],
   "source": [
    "a = np.array([1,2,3,4,3,4,3,5])\n",
    "print(a[1:])\n",
    "\n",
    "print(a[a<3])\n",
    "\n",
    "print(np.empty(4))     #made random number\n",
    "\n",
    "#np.arange(first num , last num , step )\n",
    "print(np.arange(1,100,5))\n",
    "\n",
    "#np.arange(first num , last num , how many number write?)\n",
    "print(np.linspace(0 , 10 , 5))\n",
    "\n",
    "b = [12,3,43,2,1,0]\n",
    "print(np.sort(b))\n",
    "\n",
    "a = [12,2,2,2,2,456,78,5,56,788]\n",
    "print(np.concatenate((a,b)))"
   ]
  },
  {
   "cell_type": "code",
   "execution_count": 5,
   "metadata": {},
   "outputs": [
    {
     "name": "stdout",
     "output_type": "stream",
     "text": [
      "[[1 2]\n",
      " [3 4]\n",
      " [5 6]\n",
      " [7 8]]\n",
      "[[1 2 5 6]\n",
      " [3 4 7 8]]\n"
     ]
    }
   ],
   "source": [
    " \n",
    "c = np.array(([1,2] , [3,4]))\n",
    "d = np.array(([5,6] , [7,8]))\n",
    "print(np.concatenate((c,d) , axis=0))\n",
    "print(np.concatenate((c,d) , axis=1))\n",
    "\n",
    "\n",
    "\n"
   ]
  },
  {
   "cell_type": "code",
   "execution_count": 6,
   "metadata": {},
   "outputs": [
    {
     "name": "stdout",
     "output_type": "stream",
     "text": [
      "3\n",
      "24\n",
      "(3, 2, 4)\n"
     ]
    }
   ],
   "source": [
    "aa = np.array([[[1, 2, 5, 6],\n",
    " [3, 4, 7, 8]] ,[[1, 2, 5, 6],\n",
    " [3, 4, 7, 8]] ,[[1, 2, 5, 6],\n",
    " [3, 4, 7, 8]]])\n",
    "print(aa.ndim)\n",
    "print(aa.size)\n",
    "print(aa.shape)\n"
   ]
  },
  {
   "cell_type": "code",
   "execution_count": 7,
   "metadata": {
    "notebookRunGroups": {
     "groupValue": "2"
    }
   },
   "outputs": [
    {
     "name": "stdout",
     "output_type": "stream",
     "text": [
      "[[0. 0. 0. 0. 0.]\n",
      " [0. 0. 0. 0. 0.]\n",
      " [0. 0. 0. 0. 0.]\n",
      " [0. 0. 0. 0. 0.]\n",
      " [0. 0. 0. 0. 0.]]\n",
      "[[1. 1. 1.]\n",
      " [1. 1. 1.]\n",
      " [1. 1. 1.]\n",
      " [1. 1. 1.]]\n"
     ]
    }
   ],
   "source": [
    "zr = np.zeros((5,5))\n",
    "print(zr)\n",
    "\n",
    "oner = np.ones((4,3))\n",
    "print(oner)"
   ]
  },
  {
   "cell_type": "code",
   "execution_count": 8,
   "metadata": {},
   "outputs": [
    {
     "name": "stdout",
     "output_type": "stream",
     "text": [
      "q.w =  505\n",
      "505\n",
      "[ 53  15  25  18 270  54  20  15  20  15]\n",
      "[ 53  15  25  18 270  54  20  15  20  15]\n"
     ]
    }
   ],
   "source": [
    "\n",
    "\n",
    "q = np.array([1,3,5,6,54,6,4,5,4,5])\n",
    "w = np.array([53,5,5,3,5,9,5,3,5,3])\n",
    "\n",
    "print('q.w = ' , np.dot(q,w))  #dot product\n",
    "print(q@w)    #dot product\n",
    "\n",
    "print(q*w)    #zarbe moalefeii\n",
    "print(np.multiply(q,w))  #zarbe moalefeii"
   ]
  },
  {
   "cell_type": "code",
   "execution_count": 9,
   "metadata": {},
   "outputs": [
    {
     "name": "stdout",
     "output_type": "stream",
     "text": [
      "[-52  -2   0   3  49  -3  -1   2  -1   2]\n"
     ]
    }
   ],
   "source": [
    "print(np.subtract(q,w))   #tafrigh do matrix"
   ]
  },
  {
   "cell_type": "code",
   "execution_count": 10,
   "metadata": {},
   "outputs": [
    {
     "name": "stdout",
     "output_type": "stream",
     "text": [
      "[ 0.33333333  1.          1.66666667  2.         18.          2.\n",
      "  1.33333333  1.66666667  1.33333333  1.66666667]\n"
     ]
    }
   ],
   "source": [
    "print(np.divide(q,3))   #taghsim arayeh ha bar 3"
   ]
  },
  {
   "cell_type": "code",
   "execution_count": 12,
   "metadata": {},
   "outputs": [
    {
     "name": "stdout",
     "output_type": "stream",
     "text": [
      "[[0.99949104 0.86327329 0.52592411 0.64462836 0.34036402]\n",
      " [0.18482308 0.04727598 0.67837342 0.95353989 0.28738846]\n",
      " [0.49603653 0.27421456 0.32668346 0.23607436 0.5465544 ]\n",
      " [0.20079408 0.48155873 0.18079277 0.48519439 0.49322463]\n",
      " [0.71690258 0.47691774 0.79882763 0.3833113  0.16722654]]\n"
     ]
    }
   ],
   "source": [
    "ss = np.random.uniform(1,0,(5,5))    #matrix 5*5 beine 1 va 0\n",
    "print(ss)"
   ]
  },
  {
   "cell_type": "code",
   "execution_count": 14,
   "metadata": {},
   "outputs": [
    {
     "name": "stdout",
     "output_type": "stream",
     "text": [
      "[[-0.24347422  1.10566337 -1.12562489 -0.08031723 -0.48734682]\n",
      " [ 0.9127172  -1.27333825 -2.0990407  -0.84966406 -0.7790779 ]\n",
      " [-0.75368421 -1.02366041  0.34804777  0.72102963 -1.51295723]\n",
      " [-0.19563553  2.06311861 -1.42179189 -1.38672551 -0.4907334 ]\n",
      " [ 1.15877084 -1.8559213   0.42370778  0.138397   -0.07253445]]\n"
     ]
    }
   ],
   "source": [
    "print(np.random.standard_normal((5,5)))     #adad tasadofi entekhabi az norm normal\n"
   ]
  },
  {
   "cell_type": "code",
   "execution_count": 15,
   "metadata": {},
   "outputs": [
    {
     "name": "stdout",
     "output_type": "stream",
     "text": [
      "[ 1  3  4  5  6 54]\n"
     ]
    }
   ],
   "source": [
    "print(np.unique(q))     #arayeh haye tekrari ra hazf mikonad"
   ]
  },
  {
   "cell_type": "code",
   "execution_count": 25,
   "metadata": {},
   "outputs": [
    {
     "name": "stdout",
     "output_type": "stream",
     "text": [
      "[ 1  2  3  4  5  6  7 19]\n",
      "[1 2]\n"
     ]
    }
   ],
   "source": [
    "a = np.array([[1,2,3,4,5,6,7,1]])\n",
    "b = np.array([[1,2,1,2,1,2,1,2,1,2,19]])\n",
    "print(np.union1d(a,b))    #ejtema\n",
    "print(np.intersect1d(a,b))  #eshterak"
   ]
  },
  {
   "cell_type": "code",
   "execution_count": 29,
   "metadata": {},
   "outputs": [
    {
     "name": "stdout",
     "output_type": "stream",
     "text": [
      "4.484375\n",
      "5.125\n",
      "3.5\n",
      "3.625\n"
     ]
    }
   ],
   "source": [
    "print(np.var(a))    #variance a\n",
    "print(np.cov(a))    #covarians a\n",
    "print(np.median(a)) #mianeh\n",
    "print(np.mean(a))   #miangin"
   ]
  },
  {
   "cell_type": "code",
   "execution_count": 32,
   "metadata": {},
   "outputs": [
    {
     "name": "stdout",
     "output_type": "stream",
     "text": [
      "[2 4 6]\n",
      "[5 6]\n"
     ]
    }
   ],
   "source": [
    "a =np.array( [[1,2],\n",
    "     [3,4],\n",
    "     [5,6]])\n",
    "print(a.max(axis=1))\n",
    "print(a.max(axis=0))"
   ]
  },
  {
   "cell_type": "code",
   "execution_count": 41,
   "metadata": {},
   "outputs": [
    {
     "name": "stdout",
     "output_type": "stream",
     "text": [
      "[[1 7]\n",
      " [9 1]\n",
      " [2 3]\n",
      " [6 4]\n",
      " [2 9]]\n",
      "[[1 7 9 1 2 3 6 4 2 9]]\n",
      "[[9 2 4 6 3 2 1 9 7 1]]\n",
      "[1 7 9 1 2 3 6 4 2 9]\n"
     ]
    }
   ],
   "source": [
    "z = np.array([[1],[7],[9],[1],[2],[3],[6],[4],[2],[9]])\n",
    "print(z.reshape(5,2))\n",
    "\n",
    "zz=z.transpose()\n",
    "print(zz)   \n",
    "\n",
    "print(np.flip(zz))   #mohtaviate araye ro ax mikonad\n",
    "\n",
    "print(z.flatten())   #z.ravel()     #matrix ra yek bodi mikonad"
   ]
  },
  {
   "cell_type": "code",
   "execution_count": 1,
   "metadata": {},
   "outputs": [
    {
     "name": "stdout",
     "output_type": "stream",
     "text": [
      "Help on built-in function max in module builtins:\n",
      "\n",
      "max(...)\n",
      "    max(iterable, *[, default=obj, key=func]) -> value\n",
      "    max(arg1, arg2, *args, *[, key=func]) -> value\n",
      "    \n",
      "    With a single iterable argument, return its biggest item. The\n",
      "    default keyword-only argument specifies an object to return if\n",
      "    the provided iterable is empty.\n",
      "    With two or more arguments, return the largest argument.\n",
      "\n"
     ]
    },
    {
     "name": "stdout",
     "output_type": "stream",
     "text": [
      "\u001b[1;31mDocstring:\u001b[0m\n",
      "max(iterable, *[, default=obj, key=func]) -> value\n",
      "max(arg1, arg2, *args, *[, key=func]) -> value\n",
      "\n",
      "With a single iterable argument, return its biggest item. The\n",
      "default keyword-only argument specifies an object to return if\n",
      "the provided iterable is empty.\n",
      "With two or more arguments, return the largest argument.\n",
      "\u001b[1;31mType:\u001b[0m      builtin_function_or_method"
     ]
    }
   ],
   "source": [
    "help(max)\n",
    "max?"
   ]
  },
  {
   "cell_type": "code",
   "execution_count": null,
   "metadata": {},
   "outputs": [],
   "source": []
  }
 ],
 "metadata": {
  "kernelspec": {
   "display_name": "Python 3",
   "language": "python",
   "name": "python3"
  },
  "language_info": {
   "codemirror_mode": {
    "name": "ipython",
    "version": 3
   },
   "file_extension": ".py",
   "mimetype": "text/x-python",
   "name": "python",
   "nbconvert_exporter": "python",
   "pygments_lexer": "ipython3",
   "version": "3.11.4"
  }
 },
 "nbformat": 4,
 "nbformat_minor": 2
}
