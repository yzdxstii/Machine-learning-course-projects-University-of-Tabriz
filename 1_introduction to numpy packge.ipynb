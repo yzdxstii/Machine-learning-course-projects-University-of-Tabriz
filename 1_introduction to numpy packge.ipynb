{
 "cells": [
  {
   "cell_type": "markdown",
   "metadata": {},
   "source": [
    "## *introduction to numpy packge*"
   ]
  },
  {
   "cell_type": "code",
   "execution_count": 241,
   "metadata": {},
   "outputs": [],
   "source": [
    "import numpy as np"
   ]
  },
  {
   "cell_type": "code",
   "execution_count": 242,
   "metadata": {},
   "outputs": [
    {
     "name": "stdout",
     "output_type": "stream",
     "text": [
      "1.26.3\n"
     ]
    }
   ],
   "source": [
    "print(np.__version__)"
   ]
  },
  {
   "cell_type": "code",
   "execution_count": 243,
   "metadata": {},
   "outputs": [
    {
     "name": "stdout",
     "output_type": "stream",
     "text": [
      "x= 4\n",
      "x1= 4\n",
      "[[1 2 3 2]\n",
      " [4 3 0 3]\n",
      " [0 0 0 3]]\n",
      "<class 'numpy.ndarray'>\n"
     ]
    }
   ],
   "source": [
    "x = np.array([[1,2,3,2],\n",
    "              [4,3,5,3],\n",
    "              [9,5,6,3]])\n",
    "x1 = np.array([1,1,1,1])\n",
    "print('x=' , x.shape[1])\n",
    "print('x1=' , x1.shape[0])\n",
    "x2 = np.where(x<5, x , 0)\n",
    "print(x2)\n",
    "print(type(x))\n"
   ]
  },
  {
   "cell_type": "code",
   "execution_count": 244,
   "metadata": {},
   "outputs": [
    {
     "name": "stdout",
     "output_type": "stream",
     "text": [
      "[[1 2 3 2]\n",
      " [4 3 5 3]\n",
      " [9 5 6 3]]\n",
      "[[1 2 3]\n",
      " [2 4 3]\n",
      " [5 3 9]\n",
      " [5 6 3]]\n",
      "[[1 2 3 2 4 3 5 3 9 5 6 3]]\n",
      "[[1 4 9 2 3 5 3 5 6 2 3 3]]\n"
     ]
    }
   ],
   "source": [
    "newx = np.reshape(x , (4,3))\n",
    "print(x)\n",
    "print(newx)\n",
    "print(np.reshape(x,(-1,12)))\n",
    "print(np.reshape(x,(-1,12) , order = 'F'))"
   ]
  },
  {
   "cell_type": "code",
   "execution_count": 245,
   "metadata": {},
   "outputs": [
    {
     "name": "stdout",
     "output_type": "stream",
     "text": [
      "[[1 2 3 2]\n",
      " [4 3 5 3]\n",
      " [9 5 6 3]] 2\n",
      "[[[1 2 3 2]]\n",
      "\n",
      " [[4 3 5 3]]\n",
      "\n",
      " [[9 5 6 3]]] 3\n",
      "[[[1 2 3 2]\n",
      "  [4 3 5 3]\n",
      "  [9 5 6 3]]] 3\n"
     ]
    }
   ],
   "source": [
    "print(x , x.ndim)\n",
    "\n",
    "z=x[:,np.newaxis]\n",
    "print(z , z.ndim)\n",
    "\n",
    "c=x[np.newaxis,:]\n",
    "print(c , c.ndim)"
   ]
  },
  {
   "cell_type": "code",
   "execution_count": 246,
   "metadata": {},
   "outputs": [
    {
     "name": "stdout",
     "output_type": "stream",
     "text": [
      "[[1. 2. 3.]\n",
      " [1. 2. 1.]]\n",
      "<class 'numpy.ndarray'>\n",
      "<attribute 'name' of 'numpy.dtype' objects>\n",
      "<member 'itemsize' of 'numpy.dtype' objects>\n",
      "<member 'byteorder' of 'numpy.dtype' objects>\n"
     ]
    }
   ],
   "source": [
    "q=np.array([[1,2,3],\n",
    "           [1,2,1]] , dtype=np.float64)    \n",
    "print(q)\n",
    "q1=11423434314\n",
    "print(type(q))\n",
    "print(np.dtype.name)\n",
    "print(np.dtype.itemsize)\n",
    "print(np.dtype.byteorder)\n",
    "\n"
   ]
  },
  {
   "cell_type": "code",
   "execution_count": 247,
   "metadata": {},
   "outputs": [
    {
     "name": "stdout",
     "output_type": "stream",
     "text": [
      "[ 0.   3.5  7.  10.5 14.  17.5 21.  24.5 28. ]\n",
      "[0 1 2 3 4]\n",
      "[ 0.    0.92  1.85  2.77  3.69  4.62  5.54  6.46  7.38  8.31  9.23 10.15\n",
      " 11.08 12.  ]\n"
     ]
    }
   ],
   "source": [
    "np.set_printoptions(precision=2)\n",
    "o = np.arange(0,30, 3.5,dtype=float)\n",
    "print(o)\n",
    "print(np.arange(5))\n",
    "#np.set_printoptions()    reset nupmpy print options\n",
    "o2 = np.linspace(0 , 12 , num=14)\n",
    "print(o2)"
   ]
  },
  {
   "cell_type": "code",
   "execution_count": 248,
   "metadata": {},
   "outputs": [
    {
     "name": "stdout",
     "output_type": "stream",
     "text": [
      "[ 2.  4.  8. 16. 32.]\n"
     ]
    }
   ],
   "source": [
    "logspace = np.logspace(1 , 5 , num=5 , base=2 ,endpoint=True)\n",
    "print(logspace)  #logspace return number spaced evenly on the log space\n",
    "#base means log on base "
   ]
  },
  {
   "cell_type": "code",
   "execution_count": 249,
   "metadata": {},
   "outputs": [
    {
     "name": "stdout",
     "output_type": "stream",
     "text": [
      "[[[0 0 0 0]\n",
      "  [0 0 0 0]]\n",
      "\n",
      " [[0 0 0 0]\n",
      "  [0 0 0 0]]\n",
      "\n",
      " [[0 0 0 0]\n",
      "  [0 0 0 0]]]\n",
      "4\n"
     ]
    }
   ],
   "source": [
    "zeromatrix = np.zeros(shape=(3,2,4)  , dtype=int)\n",
    "print(zeromatrix)\n",
    "print(zeromatrix.itemsize)"
   ]
  },
  {
   "cell_type": "code",
   "execution_count": 250,
   "metadata": {},
   "outputs": [
    {
     "name": "stdout",
     "output_type": "stream",
     "text": [
      "[[69. 69. 69. 69. 69.]\n",
      " [69. 69. 69. 69. 69.]\n",
      " [69. 69. 69. 69. 69.]]\n",
      "[[78 78 78 78 78]\n",
      " [78 78 78 78 78]\n",
      " [78 78 78 78 78]]\n"
     ]
    }
   ],
   "source": [
    "matrix69 = (69 * np.ones(shape=(3,5)))\n",
    "print(matrix69)\n",
    "\n",
    "fullmatrix = np.full(shape=(3,5) ,fill_value=78)\n",
    "print(fullmatrix)"
   ]
  },
  {
   "cell_type": "code",
   "execution_count": 251,
   "metadata": {},
   "outputs": [
    {
     "name": "stdout",
     "output_type": "stream",
     "text": [
      "[[0. 0. 1. 0. 0. 0. 0. 0.]\n",
      " [0. 0. 0. 1. 0. 0. 0. 0.]\n",
      " [0. 0. 0. 0. 1. 0. 0. 0.]\n",
      " [0. 0. 0. 0. 0. 1. 0. 0.]\n",
      " [0. 0. 0. 0. 0. 0. 1. 0.]]\n"
     ]
    }
   ],
   "source": [
    "eyematrix = np.eye(N=5 , M=8 , k=2 , order='C')\n",
    "print(eyematrix)\n",
    "#diagonal matrix"
   ]
  },
  {
   "cell_type": "markdown",
   "metadata": {},
   "source": [
    "### daigonal matrix "
   ]
  },
  {
   "cell_type": "code",
   "execution_count": 252,
   "metadata": {},
   "outputs": [
    {
     "name": "stdout",
     "output_type": "stream",
     "text": [
      "[[0. 0. 0. 1.]\n",
      " [0. 0. 1. 0.]\n",
      " [0. 1. 0. 0.]\n",
      " [1. 0. 0. 0.]]\n"
     ]
    }
   ],
   "source": [
    "secondary_daigonal = np.fliplr(np.eye(N=4,M=4))\n",
    "print(secondary_daigonal)"
   ]
  },
  {
   "cell_type": "code",
   "execution_count": 253,
   "metadata": {},
   "outputs": [
    {
     "name": "stdout",
     "output_type": "stream",
     "text": [
      "[[4 0 0 0 0]\n",
      " [0 2 0 0 0]\n",
      " [0 0 9 0 0]\n",
      " [0 0 0 1 0]\n",
      " [0 0 0 0 7]]\n",
      "[[0 0 0 0 4]\n",
      " [0 0 0 2 0]\n",
      " [0 0 9 0 0]\n",
      " [0 1 0 0 0]\n",
      " [7 0 0 0 0]]\n"
     ]
    }
   ],
   "source": [
    "daigmatrix = np.diag([4,2,9,1,7])\n",
    "print(daigmatrix)\n",
    "print(np.fliplr(daigmatrix))"
   ]
  },
  {
   "cell_type": "markdown",
   "metadata": {},
   "source": [
    "### create a numpy array filled with the following value"
   ]
  },
  {
   "cell_type": "code",
   "execution_count": 254,
   "metadata": {},
   "outputs": [
    {
     "name": "stdout",
     "output_type": "stream",
     "text": [
      "[[ 0  1  2  3]\n",
      " [ 4  5  6  7]\n",
      " [ 8  9 10 11]\n",
      " [12 13 14 15]]\n"
     ]
    }
   ],
   "source": [
    "print(np.reshape(a=(np.arange(start=0 , stop=16 , step= 1)) , newshape=(4,4)))"
   ]
  },
  {
   "cell_type": "code",
   "execution_count": 255,
   "metadata": {},
   "outputs": [
    {
     "name": "stdout",
     "output_type": "stream",
     "text": [
      "[[0.14 0.03 0.98 0.37 0.42]\n",
      " [0.05 0.37 0.02 0.23 0.76]\n",
      " [0.94 0.75 0.34 0.49 0.34]]\n"
     ]
    }
   ],
   "source": [
    "#make random matrix\n",
    "print(np.random.rand(3,5))\n",
    "\n",
    "#randn is random normal    &      rand is just random"
   ]
  },
  {
   "cell_type": "markdown",
   "metadata": {},
   "source": [
    "### matplotlip library_ histogram"
   ]
  },
  {
   "cell_type": "code",
   "execution_count": 256,
   "metadata": {},
   "outputs": [],
   "source": [
    "import matplotlib.pyplot as plt"
   ]
  },
  {
   "cell_type": "code",
   "execution_count": 257,
   "metadata": {},
   "outputs": [
    {
     "data": {
      "text/plain": [
       "Text(0.5, 1.0, 'histogeram random normal')"
      ]
     },
     "execution_count": 257,
     "metadata": {},
     "output_type": "execute_result"
    },
    {
     "data": {
      "image/png": "[encoded data removed]",
      "text/plain": [
       "<Figure size 640x480 with 1 Axes>"
      ]
     },
     "metadata": {},
     "output_type": "display_data"
    }
   ],
   "source": [
    "x = np.random.randn(100000)\n",
    "plt.hist(x=x , bins=100)\n",
    "plt.title(label='histogeram random normal' , loc='center')"
   ]
  },
  {
   "cell_type": "code",
   "execution_count": 258,
   "metadata": {},
   "outputs": [
    {
     "data": {
      "text/plain": [
       "Text(0.5, 1.0, 'in general use the following pattern to create random numbers from N(mu, sigma2)      sigma2 = N(0.1) + mu')"
      ]
     },
     "execution_count": 258,
     "metadata": {},
     "output_type": "execute_result"
    },
    {
     "data": {
      "image/png": "[encoded data removed]",
      "text/plain": [
       "<Figure size 640x480 with 1 Axes>"
      ]
     },
     "metadata": {},
     "output_type": "display_data"
    }
   ],
   "source": [
    "#normal dist with mu = 0 (center) and sigma^2 = 2 (variance)\n",
    "x2 = np.sqrt(2.0) * np.random.randn(100000) + 5.0   #np.sqrt(x) = (radical x)\n",
    "plt.hist(x2 , bins=50)\n",
    "plt.title(label='in general use the following pattern to create random numbers from N(mu, sigma2)      sigma2 = N(0.1) + mu')\n"
   ]
  },
  {
   "cell_type": "markdown",
   "metadata": {},
   "source": [
    "### some other useful functions from np.random pakage"
   ]
  },
  {
   "cell_type": "code",
   "execution_count": 259,
   "metadata": {},
   "outputs": [
    {
     "name": "stdout",
     "output_type": "stream",
     "text": [
      "[[1 1 1 1 1 1 1 1 0 0]]\n",
      "8\n"
     ]
    }
   ],
   "source": [
    "bineri_random_list = np. random.randint(low=0 ,high= 2 , size=(1,10) , dtype=int )\n",
    "print(bineri_random_list)\n",
    "print(np.count_nonzero(bineri_random_list))"
   ]
  },
  {
   "cell_type": "code",
   "execution_count": 260,
   "metadata": {},
   "outputs": [
    {
     "name": "stdout",
     "output_type": "stream",
     "text": [
      "[0.55 0.72 0.6  0.54 0.42 0.65 0.44 0.89 0.96 0.38]\n",
      "[0.79 0.53 0.57 0.93 0.07 0.09 0.02 0.83 0.78 0.87]\n",
      "[0.55 0.72 0.6  0.54 0.42 0.65 0.44 0.89 0.96 0.38]\n"
     ]
    }
   ],
   "source": [
    "#np.random.seed    makes the random numbers perdictable\n",
    "#With the seed reset (every time), the same set of numbers will appear every time.\n",
    "\n",
    "np.random.seed(0)\n",
    "random_list = np.random.rand(10)\n",
    "print(random_list)\n",
    "\n",
    "random_list = np.random.rand(10)\n",
    "print(random_list)\n",
    "\n",
    "np.random.seed(0)\n",
    "random_list = np.random.rand(10)\n",
    "print(random_list)"
   ]
  },
  {
   "cell_type": "code",
   "execution_count": 261,
   "metadata": {},
   "outputs": [
    {
     "name": "stdout",
     "output_type": "stream",
     "text": [
      "[[[10 10 10 10  2]\n",
      "  [ 2  2 10 10 10]\n",
      "  [10 10 10 10  2]]\n",
      "\n",
      " [[10  2 10 10 10]\n",
      "  [10 10 10 10  2]\n",
      "  [10 10 10 10 10]]]\n",
      "[[[29  2 15 19 13]\n",
      "  [16  8 25 17 22]\n",
      "  [21  4 10 28 12]]\n",
      "\n",
      " [[ 5 23 20  0 18]\n",
      "  [14 11  6  3  9]\n",
      "  [ 7 27  1 24 26]]]\n"
     ]
    }
   ],
   "source": [
    "how_many_number = np.random.choice(a=(0,2,10) , size=(2,3,5) , p=(0 , .2 , .8))  #number choosen in tuple(0,2,10)\n",
    "print(how_many_number)\n",
    "\n",
    "how_many_number = np.random.choice(a=30 , size=(2,3,5) , replace=False )    #number choosen in range(0,10)\n",
    "print(how_many_number)"
   ]
  },
  {
   "cell_type": "code",
   "execution_count": 262,
   "metadata": {},
   "outputs": [
    {
     "name": "stdout",
     "output_type": "stream",
     "text": [
      "[0 1 2 3 4]\n",
      "[ 1 34  2 76  3  4  1  9 56 32 10  8 11]\n"
     ]
    }
   ],
   "source": [
    "jaygasht = np.random.permutation(5)\n",
    "print(jaygasht)\n",
    "\n",
    "jaygasht2 = np.random.permutation([10,32,2,1,34,11,1,76,3,9,4,56,8])\n",
    "print(jaygasht2)"
   ]
  },
  {
   "cell_type": "markdown",
   "metadata": {},
   "source": [
    "### slicing"
   ]
  },
  {
   "cell_type": "code",
   "execution_count": 263,
   "metadata": {},
   "outputs": [
    {
     "name": "stdout",
     "output_type": "stream",
     "text": [
      "32\n",
      "[ 7  5 32  1]\n",
      "[ 3 32  4]\n",
      "[[3 1]]\n"
     ]
    }
   ],
   "source": [
    "mm = np.array([[1,2,3,1]\n",
    "               ,[7,5,32,1]\n",
    "               ,[9,75,4,33]])\n",
    "print(mm[1,2])\n",
    "print(mm[1,:])\n",
    "print(mm[:,2])\n",
    "b = mm[0:1 , 2:4]\n",
    "print(b)\n",
    "#accessing every specific element in the matrix"
   ]
  },
  {
   "cell_type": "code",
   "execution_count": 264,
   "metadata": {},
   "outputs": [
    {
     "name": "stdout",
     "output_type": "stream",
     "text": [
      "[46, 5, 88, 5, 6, 1, 3, 3, 42, 6]\n"
     ]
    }
   ],
   "source": [
    "listt = [42,5,6,3,46,3,5,6,88,1]\n",
    "np.random.shuffle(listt)\n",
    "print(listt)\n",
    "#this metod changes the orginal list, it does not return a new list"
   ]
  },
  {
   "cell_type": "markdown",
   "metadata": {},
   "source": [
    "### operations on numpy arrays"
   ]
  },
  {
   "cell_type": "code",
   "execution_count": 265,
   "metadata": {},
   "outputs": [
    {
     "name": "stdout",
     "output_type": "stream",
     "text": [
      "[[1. 2.]\n",
      " [3. 4.]]\n",
      "\n",
      "[[5. 6.]\n",
      " [7. 8.]]\n"
     ]
    }
   ],
   "source": [
    "x = np.array([[1,2], [3,4]] , dtype=np.float64)\n",
    "y = np.array([[5,6], [7,8]] , dtype=np.float64)\n",
    "print(x)\n",
    "print()\n",
    "print(y)"
   ]
  },
  {
   "cell_type": "code",
   "execution_count": 266,
   "metadata": {},
   "outputs": [
    {
     "name": "stdout",
     "output_type": "stream",
     "text": [
      "[[ 6.  8.]\n",
      " [10. 12.]]\n",
      "\n",
      "[[ 6.  8.]\n",
      " [10. 12.]]\n"
     ]
    }
   ],
   "source": [
    "#elementwise sum ; both produce the array\n",
    "print(x + y)\n",
    "print()\n",
    "print(np.add(x,y)) "
   ]
  },
  {
   "cell_type": "code",
   "execution_count": 267,
   "metadata": {},
   "outputs": [
    {
     "name": "stdout",
     "output_type": "stream",
     "text": [
      "[[-4. -4.]\n",
      " [-4. -4.]]\n",
      "\n",
      "[[-4. -4.]\n",
      " [-4. -4.]]\n"
     ]
    }
   ],
   "source": [
    "#elementwise difference ; both produce the array\n",
    "print(x - y)\n",
    "print()\n",
    "print(np.subtract(x,y)) "
   ]
  },
  {
   "cell_type": "code",
   "execution_count": 268,
   "metadata": {},
   "outputs": [
    {
     "name": "stdout",
     "output_type": "stream",
     "text": [
      "[[ 5. 12.]\n",
      " [21. 32.]]\n",
      "\n",
      "[[ 5. 12.]\n",
      " [21. 32.]]\n"
     ]
    }
   ],
   "source": [
    "#elementwise multiply ; both produce the array\n",
    "print(x * y)\n",
    "print()\n",
    "print(np.multiply(x,y)) "
   ]
  },
  {
   "cell_type": "code",
   "execution_count": 269,
   "metadata": {},
   "outputs": [
    {
     "name": "stdout",
     "output_type": "stream",
     "text": [
      "[[0.2  0.33]\n",
      " [0.43 0.5 ]]\n",
      "\n",
      "[[0.2  0.33]\n",
      " [0.43 0.5 ]]\n"
     ]
    }
   ],
   "source": [
    "#elementwise divide ; both produce the array\n",
    "print(x / y)\n",
    "print()\n",
    "print(np.divide(x,y)) "
   ]
  },
  {
   "cell_type": "code",
   "execution_count": 270,
   "metadata": {},
   "outputs": [
    {
     "name": "stdout",
     "output_type": "stream",
     "text": [
      "[[1.   1.41]\n",
      " [1.73 2.  ]]\n"
     ]
    }
   ],
   "source": [
    "#elementwise square ; both produce the array\n",
    "print(np.sqrt(x))\n",
    "#this operations sum, diffrence, multiply, divide worked on every single element  of matrix.not on the hole of matrix.\n",
    "#operation square worked on the number and element of matrix"
   ]
  },
  {
   "cell_type": "markdown",
   "metadata": {},
   "source": [
    "### *matrix multiplication in numpy*"
   ]
  },
  {
   "cell_type": "markdown",
   "metadata": {},
   "source": [
    "#### dot function\n",
    "we instead use the dot function to compute:\n",
    "1. inner products of vectors\n",
    "2. multiply a vector by a matrix\n",
    "3. multiply matrices\n",
    "\n",
    "note: we cant use np.multiply  for matrices multiply"
   ]
  },
  {
   "cell_type": "code",
   "execution_count": 271,
   "metadata": {},
   "outputs": [
    {
     "name": "stdout",
     "output_type": "stream",
     "text": [
      "[[19. 22.]\n",
      " [43. 50.]]\n",
      "\n",
      "[[19. 22.]\n",
      " [43. 50.]]\n"
     ]
    }
   ],
   "source": [
    "#multiply matrices\n",
    "print(x.dot(y))\n",
    "print()\n",
    "print(np.dot(x,y))"
   ]
  },
  {
   "cell_type": "code",
   "execution_count": 272,
   "metadata": {},
   "outputs": [],
   "source": [
    "q = np.array([1,2])\n",
    "w = np.array([3,4])"
   ]
  },
  {
   "cell_type": "code",
   "execution_count": 273,
   "metadata": {},
   "outputs": [
    {
     "name": "stdout",
     "output_type": "stream",
     "text": [
      "11\n",
      "\n",
      "11\n"
     ]
    }
   ],
   "source": [
    "#inner products of vectors\n",
    "print(q.dot(w))\n",
    "print()\n",
    "print(np.dot(q,w))\n",
    "#   (1*3) + (2*4) = 11"
   ]
  },
  {
   "cell_type": "code",
   "execution_count": 274,
   "metadata": {},
   "outputs": [
    {
     "name": "stdout",
     "output_type": "stream",
     "text": [
      "[ 7. 10.]\n",
      "\n",
      "[ 7. 10.]\n"
     ]
    }
   ],
   "source": [
    "#multiply a vector by a matrix\n",
    "print(q.dot(x))\n",
    "print()\n",
    "print(np.dot(q,x))"
   ]
  },
  {
   "cell_type": "markdown",
   "metadata": {},
   "source": [
    "### transpose"
   ]
  },
  {
   "cell_type": "code",
   "execution_count": 275,
   "metadata": {},
   "outputs": [
    {
     "name": "stdout",
     "output_type": "stream",
     "text": [
      "[[1. 3.]\n",
      " [2. 4.]]\n",
      "[[1. 3.]\n",
      " [2. 4.]]\n",
      "[[1]\n",
      " [2]\n",
      " [3]\n",
      " [4]]\n",
      "[1 2 3 4]\n"
     ]
    }
   ],
   "source": [
    "print(x.T)\n",
    "\n",
    "print(np.matrix.transpose(x))\n",
    "\n",
    "z = np.array([[1,2,3,4]])\n",
    "print(np.matrix.transpose(z))\n",
    "\n",
    "z = np.array([1,2,3,4])\n",
    "print(np.matrix.transpose(z))"
   ]
  },
  {
   "cell_type": "markdown",
   "metadata": {},
   "source": [
    "### other useful functions (mathematical & statistical)"
   ]
  },
  {
   "cell_type": "code",
   "execution_count": 276,
   "metadata": {},
   "outputs": [
    {
     "name": "stdout",
     "output_type": "stream",
     "text": [
      "min = 1\n",
      "max = 4\n",
      "sum = 10\n",
      "prod = 24\n",
      "mean = 2.5\n",
      "std = 1.118033988749895\n",
      "var = 1.25\n"
     ]
    }
   ],
   "source": [
    "x = np.array([[1,2] , [3,4]])\n",
    "for func in [x.min , x.max , x.sum , x.prod , x.mean , x.std , x.var]:\n",
    "    print(func.__name__ , '=' , func())"
   ]
  },
  {
   "cell_type": "code",
   "execution_count": 277,
   "metadata": {},
   "outputs": [
    {
     "name": "stdout",
     "output_type": "stream",
     "text": [
      "10\n",
      "[4 6]\n",
      "[3 7]\n"
     ]
    }
   ],
   "source": [
    "print(np.sum(x))    #sum of all elements\n",
    "print(np.sum(x , axis=0))    #sum of each columns\n",
    "print(np.sum(x , axis=1))     #sum of each rows\n",
    "#if we have more than two axis, we can use a tuple to choosing every single axises. "
   ]
  },
  {
   "cell_type": "markdown",
   "metadata": {},
   "source": [
    "###### note: we can use ( axis= )parameter for all of the method said above"
   ]
  },
  {
   "cell_type": "markdown",
   "metadata": {},
   "source": [
    "### boardcasting\n",
    "when numpy expects arrays of the same shape but finds that this is not the case, it applies the so called boardcasting rules."
   ]
  },
  {
   "cell_type": "markdown",
   "metadata": {},
   "source": [
    "#### first ruls for boardcasting: dimenstion\n",
    "if the array do not have the same rank, then a 1 will be prepended to the smaller ranking arrays until their rank match."
   ]
  },
  {
   "cell_type": "code",
   "execution_count": 278,
   "metadata": {},
   "outputs": [
    {
     "name": "stdout",
     "output_type": "stream",
     "text": [
      "[[[0 1 2 3 4]]]\n",
      "3\n",
      "1\n",
      "[[[10 21 32 43 54]]]\n"
     ]
    }
   ],
   "source": [
    "z = np.arange(5).reshape(1,1,5)   # 3D array or tensor\n",
    "print(z)\n",
    "z2 = np.array([10, 20, 30, 40, 50])\n",
    "\n",
    "print(np.ndim(z))\n",
    "print(z2.ndim)\n",
    "\n",
    "#adding z , z2\n",
    "print(z + z2)    #here matrix z2 become a 3D matrix.  and z+z2"
   ]
  },
  {
   "cell_type": "markdown",
   "metadata": {},
   "source": [
    "#### second rule of boardcasting:\n",
    "arrays with a 1 alonge a particular dimension act as if they had the size of the array with the largest shape along that dimension.\n",
    "the value of the array element is repeated along that dimension."
   ]
  },
  {
   "cell_type": "code",
   "execution_count": 279,
   "metadata": {},
   "outputs": [
    {
     "name": "stdout",
     "output_type": "stream",
     "text": [
      "[[0 1 2]\n",
      " [3 4 5]]\n",
      "[[100 101 102]\n",
      " [203 204 205]]\n"
     ]
    }
   ],
   "source": [
    "z = np.arange(6).reshape(2,3)   #2 by 3 array\n",
    "print(z)\n",
    "\n",
    "z2 = np.array([[100] , [200]])    #2 by 1 array\n",
    "\n",
    "print(z + z2)    # z + [[100,100,100] , [200,200,200]]"
   ]
  },
  {
   "cell_type": "markdown",
   "metadata": {},
   "source": [
    "combinig rules 1 & 2:\n"
   ]
  },
  {
   "cell_type": "code",
   "execution_count": 280,
   "metadata": {},
   "outputs": [
    {
     "name": "stdout",
     "output_type": "stream",
     "text": [
      "[[1000 1001 1002]\n",
      " [1003 1004 1005]]\n",
      "[[1000 1001 1002]\n",
      " [1003 1004 1005]]\n"
     ]
    }
   ],
   "source": [
    "z3 = np.array([1000])      #1 by 1 array\n",
    "print(z + z3)  # z + [[1000,1000,1000] , [1000,1000,1000]]\n",
    "\n",
    "print(z + 1000)"
   ]
  },
  {
   "cell_type": "markdown",
   "metadata": {},
   "source": [
    "#### third rule:\n",
    "after rule 1 & 2 the size of all arrays must match."
   ]
  },
  {
   "cell_type": "code",
   "execution_count": 281,
   "metadata": {},
   "outputs": [
    {
     "name": "stdout",
     "output_type": "stream",
     "text": [
      "[[ 1  2  3]\n",
      " [ 1  7  5]\n",
      " [32  1  9]\n",
      " [75  4 33]]\n",
      "[[ 2  2  4]\n",
      " [ 5  5  7]\n",
      " [ 8  8 10]\n",
      " [11 11 13]]\n",
      "[[ 2  2  4]\n",
      " [ 5  5  7]\n",
      " [ 8  8 10]\n",
      " [11 11 13]]\n"
     ]
    }
   ],
   "source": [
    "#we will add vector v to each row of the matrix x \n",
    "#storing the result in the matrix y\n",
    "\n",
    "x = np.array([[1, 2, 3],\n",
    "              [4, 5, 6],\n",
    "              [7, 8, 9],\n",
    "              [10, 11, 12]])\n",
    "\n",
    "v = np.array([1, 0, 1])\n",
    "\n",
    "y = np.empty_like(x) #create an empety matix with the same shape as x.\n",
    "print(y)\n",
    "\n",
    "#add the vector v to each row of the matrix x with on explicit loop.   \n",
    "#this loop is unefficient and slower than boardcasting function. \n",
    "for i in range (4):\n",
    "    y[i , :] = x[i , :] + v\n",
    "\n",
    "print(y)\n",
    "\n",
    "# a much more simple and more efficient way \n",
    "print(x + v)"
   ]
  },
  {
   "cell_type": "markdown",
   "metadata": {},
   "source": [
    "### conditional operators:\n",
    "the conditional operators also apply elementwise."
   ]
  },
  {
   "cell_type": "code",
   "execution_count": 282,
   "metadata": {},
   "outputs": [
    {
     "name": "stdout",
     "output_type": "stream",
     "text": [
      "[ True False False False  True False]\n",
      "[ True False  True False  True  True]\n",
      "[20 49  3]\n"
     ]
    }
   ],
   "source": [
    "z = np.array([20,49,3,54,2,12])\n",
    "print(z < [30,45,3,24,134,11])\n",
    "\n",
    "print(z < 25)   #using boardcasting\n",
    "\n",
    "print(z[[True , True , True , False , False , False]])"
   ]
  },
  {
   "cell_type": "code",
   "execution_count": 283,
   "metadata": {},
   "outputs": [
    {
     "name": "stdout",
     "output_type": "stream",
     "text": [
      "[20  3  2 12]\n"
     ]
    }
   ],
   "source": [
    "#boolean indexing\n",
    "print(z[z < 25])"
   ]
  },
  {
   "cell_type": "code",
   "execution_count": 284,
   "metadata": {},
   "outputs": [
    {
     "name": "stdout",
     "output_type": "stream",
     "text": [
      "[[1. 1. 1. 1.]]\n",
      "[[2. 2. 2. 2.]\n",
      " [2. 2. 2. 2.]\n",
      " [2. 2. 2. 2.]\n",
      " [2. 2. 2. 2.]]\n",
      "[[3. 3. 3. 3.]\n",
      " [3. 3. 3. 3.]\n",
      " [3. 3. 3. 3.]\n",
      " [3. 3. 3. 3.]]\n"
     ]
    }
   ],
   "source": [
    "a = np.full((1,4) , 1.0)\n",
    "print(a)\n",
    "\n",
    "b = np.full((4,4) , 2.0)\n",
    "print(b)\n",
    "\n",
    "c = np.full((4,4) , 3.0)\n",
    "print(c)"
   ]
  },
  {
   "cell_type": "markdown",
   "metadata": {},
   "source": [
    "### stacks\n",
    "`np.vstack()`\n",
    "\n",
    "vertical \n",
    "need to same number columns"
   ]
  },
  {
   "cell_type": "code",
   "execution_count": 285,
   "metadata": {},
   "outputs": [
    {
     "name": "stdout",
     "output_type": "stream",
     "text": [
      "[[1. 1. 1. 1.]\n",
      " [2. 2. 2. 2.]\n",
      " [2. 2. 2. 2.]\n",
      " [2. 2. 2. 2.]\n",
      " [2. 2. 2. 2.]\n",
      " [3. 3. 3. 3.]\n",
      " [3. 3. 3. 3.]\n",
      " [3. 3. 3. 3.]\n",
      " [3. 3. 3. 3.]]\n"
     ]
    }
   ],
   "source": [
    "print(np.vstack((a,b,c)))"
   ]
  },
  {
   "cell_type": "markdown",
   "metadata": {},
   "source": [
    "`np.hstack()`\n",
    "\n",
    "horizontal \n",
    "need to same number rows"
   ]
  },
  {
   "cell_type": "code",
   "execution_count": 286,
   "metadata": {},
   "outputs": [
    {
     "name": "stdout",
     "output_type": "stream",
     "text": [
      "[[2. 2. 2. 2. 3. 3. 3. 3.]\n",
      " [2. 2. 2. 2. 3. 3. 3. 3.]\n",
      " [2. 2. 2. 2. 3. 3. 3. 3.]\n",
      " [2. 2. 2. 2. 3. 3. 3. 3.]]\n"
     ]
    }
   ],
   "source": [
    "print(np.hstack((b,c)))"
   ]
  },
  {
   "cell_type": "markdown",
   "metadata": {},
   "source": [
    "`np.stack()`\n"
   ]
  },
  {
   "cell_type": "code",
   "execution_count": 287,
   "metadata": {},
   "outputs": [
    {
     "name": "stdout",
     "output_type": "stream",
     "text": [
      "[[[2. 2. 2. 2.]\n",
      "  [2. 2. 2. 2.]\n",
      "  [2. 2. 2. 2.]\n",
      "  [2. 2. 2. 2.]]\n",
      "\n",
      " [[3. 3. 3. 3.]\n",
      "  [3. 3. 3. 3.]\n",
      "  [3. 3. 3. 3.]\n",
      "  [3. 3. 3. 3.]]]\n"
     ]
    }
   ],
   "source": [
    "print(np.stack((b,c)))\n",
    "# 3D matrix"
   ]
  },
  {
   "cell_type": "markdown",
   "metadata": {},
   "source": [
    "concatenate\n",
    "###\n",
    "the concatenate functions stacks arrays along any **given exiting axis**"
   ]
  },
  {
   "cell_type": "code",
   "execution_count": 288,
   "metadata": {},
   "outputs": [
    {
     "name": "stdout",
     "output_type": "stream",
     "text": [
      "[[1. 1. 1. 1.]\n",
      " [2. 2. 2. 2.]\n",
      " [2. 2. 2. 2.]\n",
      " [2. 2. 2. 2.]\n",
      " [2. 2. 2. 2.]\n",
      " [3. 3. 3. 3.]\n",
      " [3. 3. 3. 3.]\n",
      " [3. 3. 3. 3.]\n",
      " [3. 3. 3. 3.]]\n",
      "[[2. 2. 2. 2. 3. 3. 3. 3.]\n",
      " [2. 2. 2. 2. 3. 3. 3. 3.]\n",
      " [2. 2. 2. 2. 3. 3. 3. 3.]\n",
      " [2. 2. 2. 2. 3. 3. 3. 3.]]\n"
     ]
    }
   ],
   "source": [
    "print(np.concatenate((a,b,c) , axis=0))\n",
    "#same as vstack\n",
    "\n",
    "print(np.concatenate((b,c) , axis=1))\n",
    "#same as horizontal"
   ]
  },
  {
   "cell_type": "markdown",
   "metadata": {},
   "source": [
    "### transposing arrays\n",
    "the transpose method creates a new view on an ndarray's data.with axis permuted in the given order."
   ]
  },
  {
   "cell_type": "markdown",
   "metadata": {},
   "source": [
    "By default, transpose reverses the order of the dimensions:"
   ]
  },
  {
   "cell_type": "code",
   "execution_count": 289,
   "metadata": {},
   "outputs": [
    {
     "name": "stdout",
     "output_type": "stream",
     "text": [
      "[[[ 0  1  2]\n",
      "  [ 3  4  5]]\n",
      "\n",
      " [[ 6  7  8]\n",
      "  [ 9 10 11]]\n",
      "\n",
      " [[12 13 14]\n",
      "  [15 16 17]]\n",
      "\n",
      " [[18 19 20]\n",
      "  [21 22 23]]]\n",
      "\n",
      "transpose matrix \n",
      " \n",
      " [[[ 0  6 12 18]\n",
      "  [ 3  9 15 21]]\n",
      "\n",
      " [[ 1  7 13 19]\n",
      "  [ 4 10 16 22]]\n",
      "\n",
      " [[ 2  8 14 20]\n",
      "  [ 5 11 17 23]]]\n"
     ]
    }
   ],
   "source": [
    "x1 = np.arange(24).reshape(4,2,3)\n",
    "print(x1)\n",
    "print()\n",
    "print('transpose matrix \\n \\n' , x1.transpose())\n"
   ]
  },
  {
   "cell_type": "markdown",
   "metadata": {},
   "source": [
    "Now let's create an ndarray such that the axes `0, 1, 2 (depth, height, width)` are re-ordered to `1, 2, 0 (depth→width, height→depth, width→height)`:"
   ]
  },
  {
   "cell_type": "code",
   "execution_count": 290,
   "metadata": {},
   "outputs": [
    {
     "name": "stdout",
     "output_type": "stream",
     "text": [
      "[[[ 0  6 12 18]\n",
      "  [ 1  7 13 19]\n",
      "  [ 2  8 14 20]]\n",
      "\n",
      " [[ 3  9 15 21]\n",
      "  [ 4 10 16 22]\n",
      "  [ 5 11 17 23]]]\n"
     ]
    }
   ],
   "source": [
    "print(x1.transpose((1,2,0)))"
   ]
  },
  {
   "cell_type": "markdown",
   "metadata": {},
   "source": [
    "### saving and loading\n",
    "binary format"
   ]
  },
  {
   "cell_type": "code",
   "execution_count": 291,
   "metadata": {},
   "outputs": [
    {
     "name": "stdout",
     "output_type": "stream",
     "text": [
      "[[0.45 0.02 0.44 0.98]\n",
      " [0.36 0.48 0.69 0.88]\n",
      " [0.92 0.22 0.57 0.87]]\n"
     ]
    }
   ],
   "source": [
    "#saving in binery file in (.npy) format.\n",
    "x = np.random.rand(3,4)\n",
    "print(x)\n",
    "np.save(file='my array' ,arr= x)\n"
   ]
  },
  {
   "cell_type": "code",
   "execution_count": 292,
   "metadata": {},
   "outputs": [
    {
     "name": "stdout",
     "output_type": "stream",
     "text": [
      "[[0.45 0.02 0.44 0.98]\n",
      " [0.36 0.48 0.69 0.88]\n",
      " [0.92 0.22 0.57 0.87]]\n"
     ]
    }
   ],
   "source": [
    "#np.load\n",
    "x_load = np.load('my array.npy')\n",
    "print(x_load)"
   ]
  },
  {
   "cell_type": "markdown",
   "metadata": {},
   "source": [
    "text format"
   ]
  },
  {
   "cell_type": "code",
   "execution_count": 293,
   "metadata": {},
   "outputs": [
    {
     "name": "stdout",
     "output_type": "stream",
     "text": [
      "[[0.51 0.92 0.92 0.08 0.28 0.01 0.84 0.65 0.84]\n",
      " [0.26 0.4  0.55 0.16 0.37 0.15 0.57 0.7  0.29]\n",
      " [0.43 0.76 0.4  0.9  0.64 0.89 0.68 0.45 0.98]\n",
      " [0.12 0.77 0.41 0.68 0.25 0.31 0.97 0.59 0.66]\n",
      " [0.53 0.23 0.39 0.62 0.47 0.47 0.72 0.29 0.38]\n",
      " [0.75 0.88 0.1  0.09 0.35 0.55 0.03 0.97 0.32]\n",
      " [0.22 0.14 0.1  0.98 0.26 0.54 0.45 0.1  0.35]\n",
      " [0.47 0.84 0.9  0.04 0.51 0.17 0.78 0.86 0.41]]\n"
     ]
    }
   ],
   "source": [
    "#Save an array to a text file.text format saving in what ever you want (.txt , .data , .csv , ...)format\n",
    "y = np.random.rand(8,9)\n",
    "print(y)\n",
    "np.savetxt(fname='my array in text format.data' , X=y)"
   ]
  },
  {
   "cell_type": "code",
   "execution_count": 294,
   "metadata": {},
   "outputs": [
    {
     "name": "stdout",
     "output_type": "stream",
     "text": [
      "[[0.51 0.92 0.92 0.08 0.28 0.01 0.84 0.65 0.84]\n",
      " [0.26 0.4  0.55 0.16 0.37 0.15 0.57 0.7  0.29]\n",
      " [0.43 0.76 0.4  0.9  0.64 0.89 0.68 0.45 0.98]\n",
      " [0.12 0.77 0.41 0.68 0.25 0.31 0.97 0.59 0.66]\n",
      " [0.53 0.23 0.39 0.62 0.47 0.47 0.72 0.29 0.38]\n",
      " [0.75 0.88 0.1  0.09 0.35 0.55 0.03 0.97 0.32]\n",
      " [0.22 0.14 0.1  0.98 0.26 0.54 0.45 0.1  0.35]\n",
      " [0.47 0.84 0.9  0.04 0.51 0.17 0.78 0.86 0.41]]\n"
     ]
    }
   ],
   "source": [
    "y_load = np.loadtxt('my array in text format.data')\n",
    "print(y_load)"
   ]
  },
  {
   "cell_type": "markdown",
   "metadata": {},
   "source": [
    "## *matplotlib*"
   ]
  },
  {
   "cell_type": "code",
   "execution_count": 295,
   "metadata": {},
   "outputs": [],
   "source": [
    "import matplotlib.pyplot as plt"
   ]
  },
  {
   "cell_type": "code",
   "execution_count": 296,
   "metadata": {},
   "outputs": [],
   "source": [
    "%matplotlib inline"
   ]
  },
  {
   "cell_type": "markdown",
   "metadata": {},
   "source": [
    "### plotting\n",
    "the most important function in matplotlib is `plot` which allows you to plot 2D array. "
   ]
  },
  {
   "cell_type": "code",
   "execution_count": 297,
   "metadata": {},
   "outputs": [],
   "source": [
    "#compute the x and y coordinotes "
   ]
  },
  {
   "cell_type": "code",
   "execution_count": 298,
   "metadata": {},
   "outputs": [
    {
     "name": "stdout",
     "output_type": "stream",
     "text": [
      "[0.  0.1 0.2 0.3 0.4 0.5 0.6 0.7 0.8 0.9 1.  1.1 1.2 1.3 1.4 1.5 1.6 1.7\n",
      " 1.8 1.9 2.  2.1 2.2 2.3 2.4 2.5 2.6 2.7 2.8 2.9 3.  3.1 3.2 3.3 3.4 3.5\n",
      " 3.6 3.7 3.8 3.9 4.  4.1 4.2 4.3 4.4 4.5 4.6 4.7 4.8 4.9 5.  5.1 5.2 5.3\n",
      " 5.4 5.5 5.6 5.7 5.8 5.9 6.  6.1 6.2 6.3 6.4 6.5 6.6 6.7 6.8 6.9 7.  7.1\n",
      " 7.2 7.3 7.4 7.5 7.6 7.7 7.8 7.9 8.  8.1 8.2 8.3 8.4 8.5 8.6 8.7 8.8 8.9\n",
      " 9.  9.1 9.2 9.3 9.4]\n"
     ]
    },
    {
     "data": {
      "text/plain": [
       "[<matplotlib.lines.Line2D at 0x1b237350690>]"
      ]
     },
     "execution_count": 298,
     "metadata": {},
     "output_type": "execute_result"
    },
    {
     "data": {
      "image/png": "[encoded data removed]",
      "text/plain": [
       "<Figure size 640x480 with 1 Axes>"
      ]
     },
     "metadata": {},
     "output_type": "display_data"
    }
   ],
   "source": [
    "#compute x & y coardinates for points on a sine curve.\n",
    "x = np.arange(0 , 3 * np.pi , 0.1)\n",
    "print(x)\n",
    "y1 = np.sin(x)\n",
    "\n",
    "#plot the points using matplotlib\n",
    "plt.plot(x, y1)"
   ]
  },
  {
   "cell_type": "code",
   "execution_count": 299,
   "metadata": {},
   "outputs": [
    {
     "data": {
      "text/plain": [
       "[<matplotlib.lines.Line2D at 0x1b237876c90>]"
      ]
     },
     "execution_count": 299,
     "metadata": {},
     "output_type": "execute_result"
    },
    {
     "data": {
      "image/png": "[encoded data removed]",
      "text/plain": [
       "<Figure size 640x480 with 1 Axes>"
      ]
     },
     "metadata": {},
     "output_type": "display_data"
    }
   ],
   "source": [
    "plt.plot(x, y1, 'b')"
   ]
  },
  {
   "cell_type": "code",
   "execution_count": 300,
   "metadata": {},
   "outputs": [
    {
     "data": {
      "text/plain": [
       "<matplotlib.legend.Legend at 0x1b2378af050>"
      ]
     },
     "execution_count": 300,
     "metadata": {},
     "output_type": "execute_result"
    },
    {
     "data": {
      "image/png": "[encoded data removed]",
      "text/plain": [
       "<Figure size 640x480 with 1 Axes>"
      ]
     },
     "metadata": {},
     "output_type": "display_data"
    }
   ],
   "source": [
    "y2 = np.cos(x)\n",
    "\n",
    "plt.plot(x,y1)\n",
    "plt.plot(x,y2)\n",
    "plt.xlabel('x')\n",
    "plt.ylabel('y')\n",
    "plt.title('sine and cosine')\n",
    "plt.legend(['sine' , 'cosine'])"
   ]
  },
  {
   "cell_type": "code",
   "execution_count": 301,
   "metadata": {},
   "outputs": [
    {
     "data": {
      "text/plain": [
       "<matplotlib.legend.Legend at 0x1b238e47050>"
      ]
     },
     "execution_count": 301,
     "metadata": {},
     "output_type": "execute_result"
    },
    {
     "data": {
      "image/png": "[encoded data removed]",
      "text/plain": [
       "<Figure size 640x480 with 1 Axes>"
      ]
     },
     "metadata": {},
     "output_type": "display_data"
    }
   ],
   "source": [
    "plt.plot(x , y1 , 'r--' , x , y2, 'k:')\n",
    "plt.legend(['sine' , 'cosine'])"
   ]
  },
  {
   "cell_type": "markdown",
   "metadata": {},
   "source": [
    "### subplots\n",
    "- you can plot diffrent things in the same figure using the subplot function.\n",
    "- these subplot are organized in a grid.\n"
   ]
  },
  {
   "cell_type": "code",
   "execution_count": 302,
   "metadata": {},
   "outputs": [
    {
     "data": {
      "text/plain": [
       "<function matplotlib.pyplot.show(close=None, block=None)>"
      ]
     },
     "execution_count": 302,
     "metadata": {},
     "output_type": "execute_result"
    },
    {
     "data": {
      "image/png": "[encoded data removed]",
      "text/plain": [
       "<Figure size 640x480 with 2 Axes>"
      ]
     },
     "metadata": {},
     "output_type": "display_data"
    }
   ],
   "source": [
    "#compute the x & y coordinates for pointes on sine & cosine curves.\n",
    "x = np.arange(0 , 3 * np.pi , 0.01)\n",
    "y1 = np.sin(x)\n",
    "y2 = np.cos(x)\n",
    "\n",
    "#subplot(row number , column nummber , subplot number)\n",
    "#set the first subplot as active.\n",
    "plt.subplot(2,1,1)\n",
    "plt.plot(x, y1)\n",
    "plt.title('sine')\n",
    "\n",
    "#second subplot\n",
    "plt.subplot(2,1,2)\n",
    "plt.plot(x, y2)\n",
    "plt.title('cosine')\n",
    "\n",
    "plt.show"
   ]
  },
  {
   "cell_type": "code",
   "execution_count": 303,
   "metadata": {},
   "outputs": [
    {
     "data": {
      "image/png": "[encoded data removed]",
      "text/plain": [
       "<Figure size 640x480 with 4 Axes>"
      ]
     },
     "metadata": {},
     "output_type": "display_data"
    }
   ],
   "source": [
    "x = np.linspace(-1.4 , 1.4 , 30)\n",
    "plt.subplot(2,2,1)\n",
    "plt.plot(x , x , 'r-')\n",
    "plt.title('y = x')\n",
    "\n",
    "plt.subplot(2,2,2)\n",
    "plt.plot(x , x**2 , 'g:')\n",
    "plt.title('y = x^2')\n",
    "\n",
    "plt.subplot(2,2,3)\n",
    "plt.plot(x , x**3 , 'y+')\n",
    "plt.title('y = x^3')\n",
    "\n",
    "plt.subplot(2,2,4)\n",
    "plt.plot(x , x**4 , 'kx')\n",
    "plt.title('y = x^4')\n",
    "\n",
    "plt.show()"
   ]
  },
  {
   "cell_type": "markdown",
   "metadata": {},
   "source": [
    "### saving a figure"
   ]
  },
  {
   "cell_type": "code",
   "execution_count": 304,
   "metadata": {},
   "outputs": [
    {
     "data": {
      "image/png": "[encoded data removed]",
      "text/plain": [
       "<Figure size 640x480 with 1 Axes>"
      ]
     },
     "metadata": {},
     "output_type": "display_data"
    }
   ],
   "source": [
    "x = np.linspace(-2 , 2 , 500)\n",
    "y = x**2\n",
    "plt.plot(x , y ,'r:')\n",
    "plt.xlabel('$x$')\n",
    "plt.ylabel('$y = x^2$')\n",
    "plt.title('square function')\n",
    "\n",
    "plt.savefig(' figure square function.png')"
   ]
  },
  {
   "cell_type": "code",
   "execution_count": 305,
   "metadata": {},
   "outputs": [
    {
     "data": {
      "image/png": "[encoded data removed]",
      "text/plain": [
       "<Figure size 640x480 with 1 Axes>"
      ]
     },
     "metadata": {},
     "output_type": "display_data"
    }
   ],
   "source": [
    "x = np.linspace(-1.5 , 1.5 , 30)\n",
    "px = 0.8\n",
    "py = px**2\n",
    "\n",
    "plt.plot(x, x**2 ,px ,py ,'ro')\n",
    "bbox_props = dict()"
   ]
  }
 ],
 "metadata": {
  "kernelspec": {
   "display_name": "Python 3",
   "language": "python",
   "name": "python3"
  },
  "language_info": {
   "codemirror_mode": {
    "name": "ipython",
    "version": 3
   },
   "file_extension": ".py",
   "mimetype": "text/x-python",
   "name": "python",
   "nbconvert_exporter": "python",
   "pygments_lexer": "ipython3",
   "version": "3.11.4"
  },
  "orig_nbformat": 4
 },
 "nbformat": 4,
 "nbformat_minor": 2
}
